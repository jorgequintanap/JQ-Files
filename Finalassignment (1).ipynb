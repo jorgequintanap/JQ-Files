{
 "cells": [
  {
   "cell_type": "code",
   "execution_count": 1,
   "metadata": {},
   "outputs": [
    {
     "name": "stderr",
     "output_type": "stream",
     "text": [
      "Using TensorFlow backend.\n",
      "/home/jupyterlab/conda/envs/python/lib/python3.6/site-packages/tensorflow/python/framework/dtypes.py:519: FutureWarning: Passing (type, 1) or '1type' as a synonym of type is deprecated; in a future version of numpy, it will be understood as (type, (1,)) / '(1,)type'.\n",
      "  _np_qint8 = np.dtype([(\"qint8\", np.int8, 1)])\n",
      "/home/jupyterlab/conda/envs/python/lib/python3.6/site-packages/tensorflow/python/framework/dtypes.py:520: FutureWarning: Passing (type, 1) or '1type' as a synonym of type is deprecated; in a future version of numpy, it will be understood as (type, (1,)) / '(1,)type'.\n",
      "  _np_quint8 = np.dtype([(\"quint8\", np.uint8, 1)])\n",
      "/home/jupyterlab/conda/envs/python/lib/python3.6/site-packages/tensorflow/python/framework/dtypes.py:521: FutureWarning: Passing (type, 1) or '1type' as a synonym of type is deprecated; in a future version of numpy, it will be understood as (type, (1,)) / '(1,)type'.\n",
      "  _np_qint16 = np.dtype([(\"qint16\", np.int16, 1)])\n",
      "/home/jupyterlab/conda/envs/python/lib/python3.6/site-packages/tensorflow/python/framework/dtypes.py:522: FutureWarning: Passing (type, 1) or '1type' as a synonym of type is deprecated; in a future version of numpy, it will be understood as (type, (1,)) / '(1,)type'.\n",
      "  _np_quint16 = np.dtype([(\"quint16\", np.uint16, 1)])\n",
      "/home/jupyterlab/conda/envs/python/lib/python3.6/site-packages/tensorflow/python/framework/dtypes.py:523: FutureWarning: Passing (type, 1) or '1type' as a synonym of type is deprecated; in a future version of numpy, it will be understood as (type, (1,)) / '(1,)type'.\n",
      "  _np_qint32 = np.dtype([(\"qint32\", np.int32, 1)])\n",
      "/home/jupyterlab/conda/envs/python/lib/python3.6/site-packages/tensorflow/python/framework/dtypes.py:528: FutureWarning: Passing (type, 1) or '1type' as a synonym of type is deprecated; in a future version of numpy, it will be understood as (type, (1,)) / '(1,)type'.\n",
      "  np_resource = np.dtype([(\"resource\", np.ubyte, 1)])\n"
     ]
    }
   ],
   "source": [
    "import keras\n",
    "import pandas as pd\n",
    "import numpy as np\n",
    "from sklearn.model_selection import train_test_split as tts\n",
    "\n",
    "from keras.models import Sequential\n",
    "from keras.layers import Dense"
   ]
  },
  {
   "cell_type": "code",
   "execution_count": 29,
   "metadata": {},
   "outputs": [],
   "source": [
    "concrete = pd.read_csv('https://s3-api.us-geo.objectstorage.softlayer.net/cf-courses-data/CognitiveClass/DL0101EN/labs/data/concrete_data.csv')\n",
    "concreteX = concrete[concrete.columns[0:-1]]\n",
    "concreteY = concrete[concrete.columns[-1]]\n",
    "X_train, X_test, y_train, y_split = tts(concreteX, concreteY, test_size=0.3)\n"
   ]
  },
  {
   "cell_type": "code",
   "execution_count": 26,
   "metadata": {},
   "outputs": [],
   "source": [
    "from sklearn.metrics import mean_squared_error\n",
    "def regression_model():\n",
    "    # create model\n",
    "    model = Sequential()\n",
    "    model.add(Dense(10, activation='relu', input_shape=(concreteX.shape[1],)))\n",
    "    model.add(Dense(1))\n",
    "    \n",
    "    # compile model\n",
    "    model.compile(optimizer='adam', loss='mean_squared_error')\n",
    "    return model"
   ]
  },
  {
   "cell_type": "markdown",
   "metadata": {},
   "source": [
    "## First Question 50-MSE-STDEV"
   ]
  },
  {
   "cell_type": "code",
   "execution_count": 56,
   "metadata": {},
   "outputs": [],
   "source": [
    "mselist = []\n",
    "for count in np.arange(0,50):\n",
    "    X_train, X_test, y_train, y_split = tts(concreteX, concreteY, test_size=0.3)\n",
    "    model = regression_model()\n",
    "    model.fit(X_train, y_train, epochs=50, verbose=0)\n",
    "    yhat = model.predict(X_test)\n",
    "    mse = mean_squared_error(yhat,y_split)\n",
    "    mselist.append(mse)"
   ]
  },
  {
   "cell_type": "code",
   "execution_count": 58,
   "metadata": {},
   "outputs": [
    {
     "name": "stdout",
     "output_type": "stream",
     "text": [
      "__________________________________________________\n",
      "The mean of the MSE is 379.60411795302457\n",
      "__________________________________________________\n",
      "The Standard Deviation is 551.0850260383576 \n",
      "__________________________________________________\n"
     ]
    }
   ],
   "source": [
    "from statistics import mean, stdev\n",
    "print('_'*50)\n",
    "print('The mean of the MSE is {}'.format(mean(mselist)))\n",
    "print('_'*50)\n",
    "print('The Standard Deviation is {} '.format(stdev(mselist)))\n",
    "print('_'*50)\n"
   ]
  },
  {
   "cell_type": "markdown",
   "metadata": {},
   "source": [
    "## Answer\n",
    "\n",
    "__________________________________________________\n",
    "The mean of the MSE is 379.60411795302457\n",
    "__________________________________________________\n",
    "The Standard Deviation is 551.0850260383576 \n",
    "__________________________________________________"
   ]
  },
  {
   "cell_type": "markdown",
   "metadata": {},
   "source": [
    "## Second Question "
   ]
  },
  {
   "cell_type": "code",
   "execution_count": 59,
   "metadata": {},
   "outputs": [],
   "source": [
    "concreteXnorm = concreteX.copy()\n",
    "for col in concreteXnorm.columns:\n",
    "    concreteXnorm[f'{col}'] = (concreteXnorm[f'{col}'] - mean(concreteXnorm[f'{col}']))/ stdev(concreteXnorm[f'{col}']) "
   ]
  },
  {
   "cell_type": "code",
   "execution_count": 60,
   "metadata": {},
   "outputs": [
    {
     "name": "stdout",
     "output_type": "stream",
     "text": [
      "0\n",
      "1\n",
      "2\n",
      "3\n",
      "4\n",
      "5\n",
      "6\n",
      "7\n",
      "8\n",
      "9\n",
      "10\n",
      "11\n",
      "12\n",
      "13\n",
      "14\n",
      "15\n",
      "16\n",
      "17\n",
      "18\n",
      "19\n",
      "20\n",
      "21\n",
      "22\n",
      "23\n",
      "24\n",
      "25\n",
      "26\n",
      "27\n",
      "28\n",
      "29\n",
      "30\n",
      "31\n",
      "32\n",
      "33\n",
      "34\n",
      "35\n",
      "36\n",
      "37\n",
      "38\n",
      "39\n",
      "40\n",
      "41\n",
      "42\n",
      "43\n",
      "44\n",
      "45\n",
      "46\n",
      "47\n",
      "48\n",
      "49\n"
     ]
    }
   ],
   "source": [
    "mselist2 = []\n",
    "for count in np.arange(0,50):\n",
    "    X_train, X_test, y_train, y_split = tts(concreteXnorm, concreteY, test_size=0.3)\n",
    "    model = regression_model()\n",
    "    model.fit(X_train, y_train, epochs=50, verbose=0)\n",
    "    yhat = model.predict(X_test)\n",
    "    mse = mean_squared_error(yhat,y_split)\n",
    "    mselist2.append(mse)\n",
    "    print(count)"
   ]
  },
  {
   "cell_type": "code",
   "execution_count": 61,
   "metadata": {},
   "outputs": [
    {
     "name": "stdout",
     "output_type": "stream",
     "text": [
      "__________________________________________________\n",
      "The mean of the MSE is 369.2589675233575\n",
      "__________________________________________________\n",
      "The Standard Deviation is 85.83880699350458 \n",
      "__________________________________________________\n"
     ]
    }
   ],
   "source": [
    "print('_'*50)\n",
    "print('The mean of the MSE is {}'.format(mean(mselist2)))\n",
    "print('_'*50)\n",
    "print('The Standard Deviation is {} '.format(stdev(mselist2)))\n",
    "print('_'*50)"
   ]
  },
  {
   "cell_type": "code",
   "execution_count": 79,
   "metadata": {},
   "outputs": [
    {
     "name": "stdout",
     "output_type": "stream",
     "text": [
      " it has 84.42% of imporvment in the std deviation\n"
     ]
    }
   ],
   "source": [
    "print(f' it has {round(100 - stdev(mselist2)/stdev(mselist)*100,2)}% of imporvment in the std deviation')"
   ]
  },
  {
   "cell_type": "markdown",
   "metadata": {},
   "source": [
    "## Answer \n",
    "\n",
    "__________________________________________________\n",
    "The mean of the MSE is 369.2589675233575\n",
    "__________________________________________________\n",
    "The Standard Deviation is 85.83880699350458 \n",
    "__________________________________________________\n",
    "\n",
    "\n",
    " it has 84.42% of imporvment in the std deviation"
   ]
  },
  {
   "cell_type": "markdown",
   "metadata": {},
   "source": [
    "## Third Question 100 Epoch"
   ]
  },
  {
   "cell_type": "code",
   "execution_count": 62,
   "metadata": {},
   "outputs": [
    {
     "name": "stdout",
     "output_type": "stream",
     "text": [
      "0\n",
      "1\n",
      "2\n",
      "3\n",
      "4\n",
      "5\n",
      "6\n",
      "7\n",
      "8\n",
      "9\n",
      "10\n",
      "11\n",
      "12\n",
      "13\n",
      "14\n",
      "15\n",
      "16\n",
      "17\n",
      "18\n",
      "19\n",
      "20\n",
      "21\n",
      "22\n",
      "23\n",
      "24\n",
      "25\n",
      "26\n",
      "27\n",
      "28\n",
      "29\n",
      "30\n",
      "31\n",
      "32\n",
      "33\n",
      "34\n",
      "35\n",
      "36\n",
      "37\n",
      "38\n",
      "39\n",
      "40\n",
      "41\n",
      "42\n",
      "43\n",
      "44\n",
      "45\n",
      "46\n",
      "47\n",
      "48\n",
      "49\n"
     ]
    }
   ],
   "source": [
    "mselist3 = []\n",
    "for count in np.arange(0,50):\n",
    "    X_train, X_test, y_train, y_split = tts(concreteXnorm, concreteY, test_size=0.3)\n",
    "    model = regression_model()\n",
    "    model.fit(X_train, y_train, epochs=100, verbose=0)\n",
    "    yhat = model.predict(X_test)\n",
    "    mse = mean_squared_error(yhat,y_split)\n",
    "    mselist3.append(mse)\n",
    "    print(count)"
   ]
  },
  {
   "cell_type": "code",
   "execution_count": 64,
   "metadata": {},
   "outputs": [
    {
     "name": "stdout",
     "output_type": "stream",
     "text": [
      "__________________________________________________\n",
      "The mean of the MSE is 168.57864010877597\n",
      "__________________________________________________\n",
      "The Standard Deviation is 16.247367249751075 \n",
      "__________________________________________________\n"
     ]
    }
   ],
   "source": [
    "print('_'*50)\n",
    "print('The mean of the MSE is {}'.format(mean(mselist3)))\n",
    "print('_'*50)\n",
    "print('The Standard Deviation is {} '.format(stdev(mselist3)))\n",
    "print('_'*50)"
   ]
  },
  {
   "cell_type": "markdown",
   "metadata": {},
   "source": []
  },
  {
   "cell_type": "code",
   "execution_count": 80,
   "metadata": {},
   "outputs": [
    {
     "name": "stdout",
     "output_type": "stream",
     "text": [
      " it has 81.07% of imporvment in the std deviation\n"
     ]
    }
   ],
   "source": [
    "print(f' it has {round(100 - stdev(mselist3)/stdev(mselist2)*100,2)}% of imporvment in the std deviation')"
   ]
  },
  {
   "cell_type": "markdown",
   "metadata": {},
   "source": [
    "## Answer\n",
    "\n",
    "\n",
    "__________________________________________________\n",
    "The mean of the MSE is 168.57864010877597\n",
    "__________________________________________________\n",
    "The Standard Deviation is 16.247367249751075 \n",
    "__________________________________________________\n",
    "\n",
    "\n",
    "\n",
    " it has 81.07% of imporvment in the std deviation"
   ]
  },
  {
   "cell_type": "markdown",
   "metadata": {},
   "source": [
    "## Fourth Question 3 Hidden layers"
   ]
  },
  {
   "cell_type": "code",
   "execution_count": 65,
   "metadata": {},
   "outputs": [],
   "source": [
    "def regression_model4():\n",
    "    # create model\n",
    "    model = Sequential()\n",
    "    model.add(Dense(10, activation='relu', input_shape=(concreteX.shape[1],)))\n",
    "    model.add(Dense(10, activation='relu'))\n",
    "    model.add(Dense(10, activation='relu'))\n",
    "    model.add(Dense(1))\n",
    "    \n",
    "    # compile model\n",
    "    model.compile(optimizer='adam', loss='mean_squared_error')\n",
    "    return model"
   ]
  },
  {
   "cell_type": "code",
   "execution_count": 66,
   "metadata": {},
   "outputs": [
    {
     "name": "stdout",
     "output_type": "stream",
     "text": [
      "0\n",
      "1\n",
      "2\n",
      "3\n",
      "4\n",
      "5\n",
      "6\n",
      "7\n",
      "8\n",
      "9\n",
      "10\n",
      "11\n",
      "12\n",
      "13\n",
      "14\n",
      "15\n",
      "16\n",
      "17\n",
      "18\n",
      "19\n",
      "20\n",
      "21\n",
      "22\n",
      "23\n",
      "24\n",
      "25\n",
      "26\n",
      "27\n",
      "28\n",
      "29\n",
      "30\n",
      "31\n",
      "32\n",
      "33\n",
      "34\n",
      "35\n",
      "36\n",
      "37\n",
      "38\n",
      "39\n",
      "40\n",
      "41\n",
      "42\n",
      "43\n",
      "44\n",
      "45\n",
      "46\n",
      "47\n",
      "48\n",
      "49\n"
     ]
    }
   ],
   "source": [
    "mselist4 = []\n",
    "for count in np.arange(0,50):\n",
    "    X_train, X_test, y_train, y_split = tts(concreteXnorm, concreteY, test_size=0.3)\n",
    "    model = regression_model4()\n",
    "    model.fit(X_train, y_train, epochs=50, verbose=0)\n",
    "    yhat = model.predict(X_test)\n",
    "    mse = mean_squared_error(yhat,y_split)\n",
    "    mselist4.append(mse)\n",
    "    print(count)"
   ]
  },
  {
   "cell_type": "code",
   "execution_count": 67,
   "metadata": {},
   "outputs": [
    {
     "name": "stdout",
     "output_type": "stream",
     "text": [
      "__________________________________________________\n",
      "The mean of the MSE is 128.4583146175038\n",
      "__________________________________________________\n",
      "The Standard Deviation is 14.523611324294263 \n",
      "__________________________________________________\n"
     ]
    }
   ],
   "source": [
    "print('_'*50)\n",
    "print('The mean of the MSE is {}'.format(mean(mselist4)))\n",
    "print('_'*50)\n",
    "print('The Standard Deviation is {} '.format(stdev(mselist4)))\n",
    "print('_'*50)"
   ]
  },
  {
   "cell_type": "markdown",
   "metadata": {},
   "source": [
    "# answer\n",
    "__________________________________________________\n",
    "The mean of the MSE is 128.4583146175038\n",
    "__________________________________________________\n",
    "The Standard Deviation is 14.523611324294263 \n",
    "__________________________________________________"
   ]
  },
  {
   "cell_type": "code",
   "execution_count": 81,
   "metadata": {},
   "outputs": [
    {
     "name": "stdout",
     "output_type": "stream",
     "text": [
      " it has 10.61% of imporvment in the std deviation\n"
     ]
    }
   ],
   "source": [
    "print(f' it has {round(100 - stdev(mselist4)/stdev(mselist3)*100,2)}% of imporvment in the std deviation')"
   ]
  },
  {
   "cell_type": "markdown",
   "metadata": {},
   "source": [
    "# Answer\n",
    "\n",
    " it has 10.61% of imporvment in the std deviation"
   ]
  },
  {
   "cell_type": "code",
   "execution_count": null,
   "metadata": {},
   "outputs": [],
   "source": []
  }
 ],
 "metadata": {
  "kernelspec": {
   "display_name": "Python",
   "language": "python",
   "name": "conda-env-python-py"
  },
  "language_info": {
   "codemirror_mode": {
    "name": "ipython",
    "version": 3
   },
   "file_extension": ".py",
   "mimetype": "text/x-python",
   "name": "python",
   "nbconvert_exporter": "python",
   "pygments_lexer": "ipython3",
   "version": "3.6.10"
  }
 },
 "nbformat": 4,
 "nbformat_minor": 4
}
